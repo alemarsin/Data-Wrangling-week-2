{
 "cells": [
  {
   "cell_type": "markdown",
   "metadata": {},
   "source": [
    "<center>\n",
    "<img src=\"https://cf-courses-data.s3.us.cloud-object-storage.appdomain.cloud/IBMDeveloperSkillsNetwork-RP0321EN-SkillsNetwork/labs/module_1/images/SN_web_lightmode.png\" width=\"300\"> \n",
    "</center>\n"
   ]
  },
  {
   "cell_type": "markdown",
   "metadata": {},
   "source": [
    "<h1>Data Wrangling with Regular Expressions</h1>\n",
    "\n",
    "Estimated time needed: **40** minutes\n"
   ]
  },
  {
   "cell_type": "markdown",
   "metadata": {},
   "source": [
    "## Lab Overview:\n",
    "\n",
    "In the previous data collection labs, you collected some raw datasets from several different sources. In this lab, you need to perform data wrangling tasks in order to improve data quality.\n"
   ]
  },
  {
   "cell_type": "markdown",
   "metadata": {},
   "source": [
    "You will again use regular expressions, along with the `stringr` package (part of `tidyverse`), to clean up the bike-sharing systems data that you previously web scraped from the wiki page: \n",
    "\n",
    "https://en.wikipedia.org/wiki/List_of_bicycle-sharing_systems\n",
    "\n",
    "<a href=\"https://cognitiveclass.ai/?utm_medium=Exinfluencer&utm_source=Exinfluencer&utm_content=000026UJ&utm_term=10006555&utm_id=NA-SkillsNetwork-Channel-SkillsNetworkCoursesIBMDeveloperSkillsNetworkRP0321ENSkillsNetwork878-2022-01-01\">\n",
    "    <img src=\"https://cf-courses-data.s3.us.cloud-object-storage.appdomain.cloud/IBMDeveloperSkillsNetwork-RP0321EN-SkillsNetwork/labs/module_1/images/l2-list-bike-sharing-systems.png\" width=\"800\" align=\"center\">\n",
    "</a>\n"
   ]
  },
  {
   "cell_type": "markdown",
   "metadata": {},
   "source": [
    "One typical challenge of web scraping is that data extracted from HTML pages may contain unnecessary or inconsistently fomatted information.  \n",
    "For example:\n",
    " - Textual annotations in numeric fields: `1000 (Updated with 1050)`\n",
    " - Attached reference links: `Bike sharing system [123]`\n",
    " - Inconsistent data formats: `Yes` and `Y` for the logical value `TRUE` or `2021-04-09` and `Apr 09, 2021` for the same date\n",
    " - HTML style tags: `<span style=\"color:blue\">Bike sharing system</span>`\n",
    " - Special characters: `&nbsp` for a white space\n",
    " \n",
    "Many more such examples of noise may be encountered in real-world scraped data and most of such text related noises could be handled by regular expressions.\n"
   ]
  },
  {
   "cell_type": "markdown",
   "metadata": {},
   "source": [
    "To summarize, you will be using `stringr` (part of `tidyverse`) and regular expressions to perform the following data wrangling tasks:\n",
    "  - TASK: Standardize column names for all collected datasets\n",
    "  - TASK: Remove undesired reference links from the scraped bike-sharing systems dataset\n",
    "  - TASK: Extract only the numeric value from undesired text annotations\n"
   ]
  },
  {
   "cell_type": "markdown",
   "metadata": {},
   "source": [
    "Let's begin by importing the libraries you will use for these data wrangling tasks.\n"
   ]
  },
  {
   "cell_type": "code",
   "execution_count": 1,
   "metadata": {
    "tags": []
   },
   "outputs": [
    {
     "name": "stderr",
     "output_type": "stream",
     "text": [
      "Loading required package: tidyverse\n",
      "── Attaching packages ─────────────────────────────────────── tidyverse 1.3.0 ──\n",
      "✔ ggplot2 3.3.0     ✔ purrr   0.3.4\n",
      "✔ tibble  3.0.1     ✔ dplyr   0.8.5\n",
      "✔ tidyr   1.0.2     ✔ stringr 1.4.0\n",
      "✔ readr   1.3.1     ✔ forcats 0.5.0\n",
      "── Conflicts ────────────────────────────────────────── tidyverse_conflicts() ──\n",
      "✖ dplyr::filter() masks stats::filter()\n",
      "✖ dplyr::lag()    masks stats::lag()\n"
     ]
    }
   ],
   "source": [
    "# Check whether you need to install the `tidyverse` library\n",
    "require(\"tidyverse\")\n",
    "library(tidyverse)"
   ]
  },
  {
   "cell_type": "markdown",
   "metadata": {},
   "source": [
    "## TASK: Standardize column names for all collected datasets \n"
   ]
  },
  {
   "cell_type": "markdown",
   "metadata": {},
   "source": [
    "In the previous data collection labs, you collected four datasets in csv format:\n",
    "- `raw_bike_sharing_systems.csv`:  A list of active bike-sharing systems across the world\n",
    "- `raw_cities_weather_forecast.csv`: 5-day weather forecasts for a list of cities, from OpenWeather API\n",
    "- `raw_worldcities.csv`: A list of major cities' info (such as name, latitude and longitude) across the world\n",
    "- `raw_seoul_bike_sharing.csv`: Weather information (Temperature, Humidity, Windspeed, Visibility, Dewpoint, Solar radiation, Snowfall, Rainfall), the number of bikes rented per hour, and date information, from Seoul bike-sharing systems\n"
   ]
  },
  {
   "cell_type": "markdown",
   "metadata": {},
   "source": [
    "*Optional:* If you had some difficulties finishing the data collection labs, you may download the datasets directly from the following URLs:\n"
   ]
  },
  {
   "cell_type": "code",
   "execution_count": 12,
   "metadata": {
    "tags": []
   },
   "outputs": [],
   "source": [
    "# Download raw_bike_sharing_systems.csv\n",
    "url1 <- \"https://cf-courses-data.s3.us.cloud-object-storage.appdomain.cloud/IBMDeveloperSkillsNetwork-RP0321EN-SkillsNetwork/labs/datasets/raw_bike_sharing_systems.csv\"\n",
    "download.file(url, destfile = \"raw_bike_sharing_systems.csv\")\n",
    "\n",
    "# Download raw_cities_weather_forecast.csv\n",
    "url2 <- \"https://cf-courses-data.s3.us.cloud-object-storage.appdomain.cloud/IBMDeveloperSkillsNetwork-RP0321EN-SkillsNetwork/labs/datasets/raw_cities_weather_forecast.csv\"\n",
    "download.file(url, destfile = \"raw_cities_weather_forecast.csv\")\n",
    "\n",
    "# Download raw_worldcities.csv\n",
    "url3 <- \"https://cf-courses-data.s3.us.cloud-object-storage.appdomain.cloud/IBMDeveloperSkillsNetwork-RP0321EN-SkillsNetwork/labs/datasets/raw_worldcities.csv\"\n",
    "download.file(url, destfile = \"raw_worldcities.csv\")\n",
    "\n",
    "# Download raw_seoul_bike_sharing.csv\n",
    "url4 <- \"https://cf-courses-data.s3.us.cloud-object-storage.appdomain.cloud/IBMDeveloperSkillsNetwork-RP0321EN-SkillsNetwork/labs/datasets/raw_seoul_bike_sharing.csv\"\n",
    "download.file(url, destfile = \"raw_seoul_bike_sharing.csv\")"
   ]
  },
  {
   "cell_type": "markdown",
   "metadata": {},
   "source": [
    "To improve dataset readbility by both human and computer systems, we first need to standardize the column names of the datasets above using the following naming convention:\n",
    " - Column names need to be UPPERCASE\n",
    " - The word separator needs to be an underscore, such as in `COLUMN_NAME`\n"
   ]
  },
  {
   "cell_type": "markdown",
   "metadata": {},
   "source": [
    "You can use the following dataset list and the `names()` function to get and set each of their column names, and convert them according to our defined naming convention.\n"
   ]
  },
  {
   "cell_type": "code",
   "execution_count": 13,
   "metadata": {
    "tags": []
   },
   "outputs": [],
   "source": [
    "dataset_list <- c('raw_bike_sharing_systems.csv', 'raw_seoul_bike_sharing.csv', 'raw_cities_weather_forecast.csv', 'raw_worldcities.csv')"
   ]
  },
  {
   "cell_type": "markdown",
   "metadata": {},
   "source": [
    "_TODO_: Write a `for` loop to iterate over the above datasets and convert their column names \n"
   ]
  },
  {
   "cell_type": "code",
   "execution_count": 14,
   "metadata": {
    "tags": []
   },
   "outputs": [
    {
     "data": {
      "text/html": [
       "<style>\n",
       ".list-inline {list-style: none; margin:0; padding: 0}\n",
       ".list-inline>li {display: inline-block}\n",
       ".list-inline>li:not(:last-child)::after {content: \"\\00b7\"; padding: 0 .5ex}\n",
       "</style>\n",
       "<ol class=list-inline><li>'raw_bike_sharing_systems.csv'</li><li>'raw_seoul_bike_sharing.csv'</li><li>'raw_cities_weather_forecast.csv'</li><li>'raw_worldcities.csv'</li></ol>\n"
      ],
      "text/latex": [
       "\\begin{enumerate*}\n",
       "\\item 'raw\\_bike\\_sharing\\_systems.csv'\n",
       "\\item 'raw\\_seoul\\_bike\\_sharing.csv'\n",
       "\\item 'raw\\_cities\\_weather\\_forecast.csv'\n",
       "\\item 'raw\\_worldcities.csv'\n",
       "\\end{enumerate*}\n"
      ],
      "text/markdown": [
       "1. 'raw_bike_sharing_systems.csv'\n",
       "2. 'raw_seoul_bike_sharing.csv'\n",
       "3. 'raw_cities_weather_forecast.csv'\n",
       "4. 'raw_worldcities.csv'\n",
       "\n",
       "\n"
      ],
      "text/plain": [
       "[1] \"raw_bike_sharing_systems.csv\"    \"raw_seoul_bike_sharing.csv\"     \n",
       "[3] \"raw_cities_weather_forecast.csv\" \"raw_worldcities.csv\"            "
      ]
     },
     "metadata": {},
     "output_type": "display_data"
    }
   ],
   "source": [
    "dataset_list\n"
   ]
  },
  {
   "cell_type": "code",
   "execution_count": 15,
   "metadata": {
    "tags": []
   },
   "outputs": [
    {
     "name": "stderr",
     "output_type": "stream",
     "text": [
      "Parsed with column specification:\n",
      "cols(\n",
      "  Date = col_character(),\n",
      "  RENTED_BIKE_COUNT = col_double(),\n",
      "  Hour = col_double(),\n",
      "  TEMPERATURE = col_double(),\n",
      "  HUMIDITY = col_double(),\n",
      "  WIND_SPEED = col_double(),\n",
      "  Visibility = col_double(),\n",
      "  DEW_POINT_TEMPERATURE = col_double(),\n",
      "  SOLAR_RADIATION = col_double(),\n",
      "  RAINFALL = col_double(),\n",
      "  Snowfall = col_double(),\n",
      "  SEASONS = col_character(),\n",
      "  HOLIDAY = col_character(),\n",
      "  FUNCTIONING_DAY = col_character()\n",
      ")\n",
      "Parsed with column specification:\n",
      "cols(\n",
      "  Date = col_character(),\n",
      "  RENTED_BIKE_COUNT = col_double(),\n",
      "  Hour = col_double(),\n",
      "  TEMPERATURE = col_double(),\n",
      "  HUMIDITY = col_double(),\n",
      "  WIND_SPEED = col_double(),\n",
      "  Visibility = col_double(),\n",
      "  DEW_POINT_TEMPERATURE = col_double(),\n",
      "  SOLAR_RADIATION = col_double(),\n",
      "  RAINFALL = col_double(),\n",
      "  Snowfall = col_double(),\n",
      "  SEASONS = col_character(),\n",
      "  HOLIDAY = col_character(),\n",
      "  FUNCTIONING_DAY = col_character()\n",
      ")\n",
      "Parsed with column specification:\n",
      "cols(\n",
      "  Date = col_character(),\n",
      "  RENTED_BIKE_COUNT = col_double(),\n",
      "  Hour = col_double(),\n",
      "  TEMPERATURE = col_double(),\n",
      "  HUMIDITY = col_double(),\n",
      "  WIND_SPEED = col_double(),\n",
      "  Visibility = col_double(),\n",
      "  DEW_POINT_TEMPERATURE = col_double(),\n",
      "  SOLAR_RADIATION = col_double(),\n",
      "  RAINFALL = col_double(),\n",
      "  Snowfall = col_double(),\n",
      "  SEASONS = col_character(),\n",
      "  HOLIDAY = col_character(),\n",
      "  FUNCTIONING_DAY = col_character()\n",
      ")\n",
      "Parsed with column specification:\n",
      "cols(\n",
      "  Date = col_character(),\n",
      "  RENTED_BIKE_COUNT = col_double(),\n",
      "  Hour = col_double(),\n",
      "  TEMPERATURE = col_double(),\n",
      "  HUMIDITY = col_double(),\n",
      "  WIND_SPEED = col_double(),\n",
      "  Visibility = col_double(),\n",
      "  DEW_POINT_TEMPERATURE = col_double(),\n",
      "  SOLAR_RADIATION = col_double(),\n",
      "  RAINFALL = col_double(),\n",
      "  Snowfall = col_double(),\n",
      "  SEASONS = col_character(),\n",
      "  HOLIDAY = col_character(),\n",
      "  FUNCTIONING_DAY = col_character()\n",
      ")\n"
     ]
    }
   ],
   "source": [
    "for (dataset_name in dataset_list){\n",
    "    # Read dataset\n",
    "    dataset <- read_csv(dataset_name)\n",
    "    # Standardized its columns:\n",
    "    # Convert all column names to uppercase\n",
    "    names(dataset)<-toupper(names(dataset))\n",
    "    # Replace any white space separators by underscores, using the str_replace_all function\n",
    "    names(dataset)<-str_replace_all(names(dataset),\" \",\"_\")\n",
    "    # Save the dataset \n",
    "    write.csv(dataset, dataset_name, row.names=FALSE)\n",
    "}\n"
   ]
  },
  {
   "cell_type": "markdown",
   "metadata": {},
   "source": [
    "_TODO_: Read the resulting datasets back and check whether their column names follow the naming convention\n"
   ]
  },
  {
   "cell_type": "code",
   "execution_count": 18,
   "metadata": {
    "tags": []
   },
   "outputs": [
    {
     "data": {
      "text/plain": [
       "   Length     Class      Mode \n",
       "        1 character character "
      ]
     },
     "metadata": {},
     "output_type": "display_data"
    }
   ],
   "source": [
    "for (dataset_name in dataset_list){\n",
    "    # Print a summary for each data set to check whether the column names were correctly converted\n",
    "      summary(dataset_name)}\n",
    "\n",
    "summary(dataset_name)"
   ]
  },
  {
   "cell_type": "markdown",
   "metadata": {},
   "source": [
    "## Process the web-scraped bike sharing system dataset \n"
   ]
  },
  {
   "cell_type": "markdown",
   "metadata": {},
   "source": [
    "By now we have standardized all column names. Next, we will focus on cleaning up the values in the web-scraped bike sharing systems dataset.\n"
   ]
  },
  {
   "cell_type": "code",
   "execution_count": 19,
   "metadata": {
    "tags": []
   },
   "outputs": [
    {
     "name": "stderr",
     "output_type": "stream",
     "text": [
      "Parsed with column specification:\n",
      "cols(\n",
      "  DATE = col_character(),\n",
      "  RENTED_BIKE_COUNT = col_double(),\n",
      "  HOUR = col_double(),\n",
      "  TEMPERATURE = col_double(),\n",
      "  HUMIDITY = col_double(),\n",
      "  WIND_SPEED = col_double(),\n",
      "  VISIBILITY = col_double(),\n",
      "  DEW_POINT_TEMPERATURE = col_double(),\n",
      "  SOLAR_RADIATION = col_double(),\n",
      "  RAINFALL = col_double(),\n",
      "  SNOWFALL = col_double(),\n",
      "  SEASONS = col_character(),\n",
      "  HOLIDAY = col_character(),\n",
      "  FUNCTIONING_DAY = col_character()\n",
      ")\n"
     ]
    }
   ],
   "source": [
    "# First load the dataset\n",
    "bike_sharing_df <- read_csv(\"raw_bike_sharing_systems.csv\")"
   ]
  },
  {
   "cell_type": "code",
   "execution_count": 20,
   "metadata": {},
   "outputs": [
    {
     "data": {
      "text/html": [
       "<table>\n",
       "<caption>A tibble: 6 × 14</caption>\n",
       "<thead>\n",
       "\t<tr><th scope=col>DATE</th><th scope=col>RENTED_BIKE_COUNT</th><th scope=col>HOUR</th><th scope=col>TEMPERATURE</th><th scope=col>HUMIDITY</th><th scope=col>WIND_SPEED</th><th scope=col>VISIBILITY</th><th scope=col>DEW_POINT_TEMPERATURE</th><th scope=col>SOLAR_RADIATION</th><th scope=col>RAINFALL</th><th scope=col>SNOWFALL</th><th scope=col>SEASONS</th><th scope=col>HOLIDAY</th><th scope=col>FUNCTIONING_DAY</th></tr>\n",
       "\t<tr><th scope=col>&lt;chr&gt;</th><th scope=col>&lt;dbl&gt;</th><th scope=col>&lt;dbl&gt;</th><th scope=col>&lt;dbl&gt;</th><th scope=col>&lt;dbl&gt;</th><th scope=col>&lt;dbl&gt;</th><th scope=col>&lt;dbl&gt;</th><th scope=col>&lt;dbl&gt;</th><th scope=col>&lt;dbl&gt;</th><th scope=col>&lt;dbl&gt;</th><th scope=col>&lt;dbl&gt;</th><th scope=col>&lt;chr&gt;</th><th scope=col>&lt;chr&gt;</th><th scope=col>&lt;chr&gt;</th></tr>\n",
       "</thead>\n",
       "<tbody>\n",
       "\t<tr><td>01/12/2017</td><td>254</td><td>0</td><td>-5.2</td><td>37</td><td>2.2</td><td>2000</td><td>-17.6</td><td>0</td><td>0</td><td>0</td><td>Winter</td><td>No Holiday</td><td>Yes</td></tr>\n",
       "\t<tr><td>01/12/2017</td><td>204</td><td>1</td><td>-5.5</td><td>38</td><td>0.8</td><td>2000</td><td>-17.6</td><td>0</td><td>0</td><td>0</td><td>Winter</td><td>No Holiday</td><td>Yes</td></tr>\n",
       "\t<tr><td>01/12/2017</td><td>173</td><td>2</td><td>-6.0</td><td>39</td><td>1.0</td><td>2000</td><td>-17.7</td><td>0</td><td>0</td><td>0</td><td>Winter</td><td>No Holiday</td><td>Yes</td></tr>\n",
       "\t<tr><td>01/12/2017</td><td>107</td><td>3</td><td>-6.2</td><td>40</td><td>0.9</td><td>2000</td><td>-17.6</td><td>0</td><td>0</td><td>0</td><td>Winter</td><td>No Holiday</td><td>Yes</td></tr>\n",
       "\t<tr><td>01/12/2017</td><td> 78</td><td>4</td><td>-6.0</td><td>36</td><td>2.3</td><td>2000</td><td>-18.6</td><td>0</td><td>0</td><td>0</td><td>Winter</td><td>No Holiday</td><td>Yes</td></tr>\n",
       "\t<tr><td>01/12/2017</td><td>100</td><td>5</td><td>-6.4</td><td>37</td><td>1.5</td><td>2000</td><td>-18.7</td><td>0</td><td>0</td><td>0</td><td>Winter</td><td>No Holiday</td><td>Yes</td></tr>\n",
       "</tbody>\n",
       "</table>\n"
      ],
      "text/latex": [
       "A tibble: 6 × 14\n",
       "\\begin{tabular}{llllllllllllll}\n",
       " DATE & RENTED\\_BIKE\\_COUNT & HOUR & TEMPERATURE & HUMIDITY & WIND\\_SPEED & VISIBILITY & DEW\\_POINT\\_TEMPERATURE & SOLAR\\_RADIATION & RAINFALL & SNOWFALL & SEASONS & HOLIDAY & FUNCTIONING\\_DAY\\\\\n",
       " <chr> & <dbl> & <dbl> & <dbl> & <dbl> & <dbl> & <dbl> & <dbl> & <dbl> & <dbl> & <dbl> & <chr> & <chr> & <chr>\\\\\n",
       "\\hline\n",
       "\t 01/12/2017 & 254 & 0 & -5.2 & 37 & 2.2 & 2000 & -17.6 & 0 & 0 & 0 & Winter & No Holiday & Yes\\\\\n",
       "\t 01/12/2017 & 204 & 1 & -5.5 & 38 & 0.8 & 2000 & -17.6 & 0 & 0 & 0 & Winter & No Holiday & Yes\\\\\n",
       "\t 01/12/2017 & 173 & 2 & -6.0 & 39 & 1.0 & 2000 & -17.7 & 0 & 0 & 0 & Winter & No Holiday & Yes\\\\\n",
       "\t 01/12/2017 & 107 & 3 & -6.2 & 40 & 0.9 & 2000 & -17.6 & 0 & 0 & 0 & Winter & No Holiday & Yes\\\\\n",
       "\t 01/12/2017 &  78 & 4 & -6.0 & 36 & 2.3 & 2000 & -18.6 & 0 & 0 & 0 & Winter & No Holiday & Yes\\\\\n",
       "\t 01/12/2017 & 100 & 5 & -6.4 & 37 & 1.5 & 2000 & -18.7 & 0 & 0 & 0 & Winter & No Holiday & Yes\\\\\n",
       "\\end{tabular}\n"
      ],
      "text/markdown": [
       "\n",
       "A tibble: 6 × 14\n",
       "\n",
       "| DATE &lt;chr&gt; | RENTED_BIKE_COUNT &lt;dbl&gt; | HOUR &lt;dbl&gt; | TEMPERATURE &lt;dbl&gt; | HUMIDITY &lt;dbl&gt; | WIND_SPEED &lt;dbl&gt; | VISIBILITY &lt;dbl&gt; | DEW_POINT_TEMPERATURE &lt;dbl&gt; | SOLAR_RADIATION &lt;dbl&gt; | RAINFALL &lt;dbl&gt; | SNOWFALL &lt;dbl&gt; | SEASONS &lt;chr&gt; | HOLIDAY &lt;chr&gt; | FUNCTIONING_DAY &lt;chr&gt; |\n",
       "|---|---|---|---|---|---|---|---|---|---|---|---|---|---|\n",
       "| 01/12/2017 | 254 | 0 | -5.2 | 37 | 2.2 | 2000 | -17.6 | 0 | 0 | 0 | Winter | No Holiday | Yes |\n",
       "| 01/12/2017 | 204 | 1 | -5.5 | 38 | 0.8 | 2000 | -17.6 | 0 | 0 | 0 | Winter | No Holiday | Yes |\n",
       "| 01/12/2017 | 173 | 2 | -6.0 | 39 | 1.0 | 2000 | -17.7 | 0 | 0 | 0 | Winter | No Holiday | Yes |\n",
       "| 01/12/2017 | 107 | 3 | -6.2 | 40 | 0.9 | 2000 | -17.6 | 0 | 0 | 0 | Winter | No Holiday | Yes |\n",
       "| 01/12/2017 |  78 | 4 | -6.0 | 36 | 2.3 | 2000 | -18.6 | 0 | 0 | 0 | Winter | No Holiday | Yes |\n",
       "| 01/12/2017 | 100 | 5 | -6.4 | 37 | 1.5 | 2000 | -18.7 | 0 | 0 | 0 | Winter | No Holiday | Yes |\n",
       "\n"
      ],
      "text/plain": [
       "  DATE       RENTED_BIKE_COUNT HOUR TEMPERATURE HUMIDITY WIND_SPEED VISIBILITY\n",
       "1 01/12/2017 254               0    -5.2        37       2.2        2000      \n",
       "2 01/12/2017 204               1    -5.5        38       0.8        2000      \n",
       "3 01/12/2017 173               2    -6.0        39       1.0        2000      \n",
       "4 01/12/2017 107               3    -6.2        40       0.9        2000      \n",
       "5 01/12/2017  78               4    -6.0        36       2.3        2000      \n",
       "6 01/12/2017 100               5    -6.4        37       1.5        2000      \n",
       "  DEW_POINT_TEMPERATURE SOLAR_RADIATION RAINFALL SNOWFALL SEASONS HOLIDAY   \n",
       "1 -17.6                 0               0        0        Winter  No Holiday\n",
       "2 -17.6                 0               0        0        Winter  No Holiday\n",
       "3 -17.7                 0               0        0        Winter  No Holiday\n",
       "4 -17.6                 0               0        0        Winter  No Holiday\n",
       "5 -18.6                 0               0        0        Winter  No Holiday\n",
       "6 -18.7                 0               0        0        Winter  No Holiday\n",
       "  FUNCTIONING_DAY\n",
       "1 Yes            \n",
       "2 Yes            \n",
       "3 Yes            \n",
       "4 Yes            \n",
       "5 Yes            \n",
       "6 Yes            "
      ]
     },
     "metadata": {},
     "output_type": "display_data"
    }
   ],
   "source": [
    "# Print its head\n",
    "head(bike_sharing_df)"
   ]
  },
  {
   "cell_type": "markdown",
   "metadata": {},
   "source": [
    "Even from the first few rows, you can see there is plenty of undesireable embedded textual content, such as the reference link included in `Melbourne[12]`.\n"
   ]
  },
  {
   "cell_type": "markdown",
   "metadata": {},
   "source": [
    "In this project, let's only focus on processing the following revelant columns (feel free to process the other columns for more practice):\n",
    " - `COUNTRY`: Country name \n",
    " - `CITY`: City name\n",
    " - `SYSTEM`: Bike-sharing system name\n",
    " - `BICYCLES`: Total number of bikes in the system\n"
   ]
  },
  {
   "cell_type": "code",
   "execution_count": 22,
   "metadata": {},
   "outputs": [],
   "source": [
    "# Select the four columns\n",
    "sub_bike_sharing_df <- bike_sharing_df %>% select(RENTED_BIKE_COUNT, HOUR, TEMPERATURE, HUMIDITY)"
   ]
  },
  {
   "cell_type": "markdown",
   "metadata": {},
   "source": [
    "Let's see the types of the selected columns\n"
   ]
  },
  {
   "cell_type": "code",
   "execution_count": 23,
   "metadata": {},
   "outputs": [
    {
     "data": {
      "text/html": [
       "<table>\n",
       "<caption>A tibble: 4 × 2</caption>\n",
       "<thead>\n",
       "\t<tr><th scope=col>variable</th><th scope=col>class</th></tr>\n",
       "\t<tr><th scope=col>&lt;chr&gt;</th><th scope=col>&lt;chr&gt;</th></tr>\n",
       "</thead>\n",
       "<tbody>\n",
       "\t<tr><td>RENTED_BIKE_COUNT</td><td>numeric</td></tr>\n",
       "\t<tr><td>HOUR             </td><td>numeric</td></tr>\n",
       "\t<tr><td>TEMPERATURE      </td><td>numeric</td></tr>\n",
       "\t<tr><td>HUMIDITY         </td><td>numeric</td></tr>\n",
       "</tbody>\n",
       "</table>\n"
      ],
      "text/latex": [
       "A tibble: 4 × 2\n",
       "\\begin{tabular}{ll}\n",
       " variable & class\\\\\n",
       " <chr> & <chr>\\\\\n",
       "\\hline\n",
       "\t RENTED\\_BIKE\\_COUNT & numeric\\\\\n",
       "\t HOUR              & numeric\\\\\n",
       "\t TEMPERATURE       & numeric\\\\\n",
       "\t HUMIDITY          & numeric\\\\\n",
       "\\end{tabular}\n"
      ],
      "text/markdown": [
       "\n",
       "A tibble: 4 × 2\n",
       "\n",
       "| variable &lt;chr&gt; | class &lt;chr&gt; |\n",
       "|---|---|\n",
       "| RENTED_BIKE_COUNT | numeric |\n",
       "| HOUR              | numeric |\n",
       "| TEMPERATURE       | numeric |\n",
       "| HUMIDITY          | numeric |\n",
       "\n"
      ],
      "text/plain": [
       "  variable          class  \n",
       "1 RENTED_BIKE_COUNT numeric\n",
       "2 HOUR              numeric\n",
       "3 TEMPERATURE       numeric\n",
       "4 HUMIDITY          numeric"
      ]
     },
     "metadata": {},
     "output_type": "display_data"
    }
   ],
   "source": [
    "sub_bike_sharing_df %>% \n",
    "    summarize_all(class) %>%\n",
    "    gather(variable, class)"
   ]
  },
  {
   "cell_type": "markdown",
   "metadata": {},
   "source": [
    "They are all interpreted as character columns, but we expect the `BICYCLES` column to be of numeric type. Let's see why it wasn't loaded as a numeric column - possibly some entries contain characters. Let's create a simple function called `find_character` to check that.\n"
   ]
  },
  {
   "cell_type": "code",
   "execution_count": 24,
   "metadata": {},
   "outputs": [],
   "source": [
    "# grepl searches a string for non-digital characters, and returns TRUE or FALSE\n",
    "# if it finds any non-digital characters, then the bicyle column is not purely numeric\n",
    "find_character <- function(strings) grepl(\"[^0-9]\", strings)"
   ]
  },
  {
   "cell_type": "markdown",
   "metadata": {},
   "source": [
    "Let's try to find any elements in the `Bicycles` column containing non-numeric characters.\n"
   ]
  },
  {
   "cell_type": "code",
   "execution_count": 27,
   "metadata": {},
   "outputs": [
    {
     "data": {
      "text/html": [
       "<table>\n",
       "<caption>A spec_tbl_df: 0 × 1</caption>\n",
       "<thead>\n",
       "\t<tr><th scope=col>RENTED_BIKE_COUNT</th></tr>\n",
       "\t<tr><th scope=col>&lt;dbl&gt;</th></tr>\n",
       "</thead>\n",
       "<tbody>\n",
       "</tbody>\n",
       "</table>\n"
      ],
      "text/latex": [
       "A spec\\_tbl\\_df: 0 × 1\n",
       "\\begin{tabular}{l}\n",
       " RENTED\\_BIKE\\_COUNT\\\\\n",
       " <dbl>\\\\\n",
       "\\hline\n",
       "\\end{tabular}\n"
      ],
      "text/markdown": [
       "\n",
       "A spec_tbl_df: 0 × 1\n",
       "\n",
       "| RENTED_BIKE_COUNT &lt;dbl&gt; |\n",
       "|---|\n",
       "\n"
      ],
      "text/plain": [
       "     RENTED_BIKE_COUNT"
      ]
     },
     "metadata": {},
     "output_type": "display_data"
    }
   ],
   "source": [
    "sub_bike_sharing_df %>% \n",
    "    select(RENTED_BIKE_COUNT) %>% \n",
    "    filter(find_character(RENTED_BIKE_COUNT)) %>%\n",
    "    slice(0:10)"
   ]
  },
  {
   "cell_type": "markdown",
   "metadata": {},
   "source": [
    "As you can see, many rows have non-numeric characters, such as `32 (including 6 rollers) [162]` and `1000[253]`. This is actually very common for a table scraped from Wiki when no input validation is enforced. \n",
    "\n",
    "Later, you will use regular expressions to clean them up.\n"
   ]
  },
  {
   "cell_type": "markdown",
   "metadata": {},
   "source": [
    "Next, let's take a look at the other columns, namely `COUNTRY`, `CITY`, and `SYSTEM`, to see if they contain any undesired reference links, such as in `Melbourne[12]`.\n"
   ]
  },
  {
   "cell_type": "code",
   "execution_count": 28,
   "metadata": {},
   "outputs": [],
   "source": [
    "# Define a 'reference link' character class, \n",
    "# `[A-z0-9]` means at least one character \n",
    "# `\\\\[` and `\\\\]` means the character is wrapped by [], such as for [12] or [abc]\n",
    "ref_pattern <- \"\\\\[[A-z0-9]+\\\\]\"\n",
    "find_reference_pattern <- function(strings) grepl(ref_pattern, strings)"
   ]
  },
  {
   "cell_type": "code",
   "execution_count": 29,
   "metadata": {},
   "outputs": [
    {
     "data": {
      "text/html": [
       "<table>\n",
       "<caption>A spec_tbl_df: 0 × 1</caption>\n",
       "<thead>\n",
       "\t<tr><th scope=col>HOUR</th></tr>\n",
       "\t<tr><th scope=col>&lt;dbl&gt;</th></tr>\n",
       "</thead>\n",
       "<tbody>\n",
       "</tbody>\n",
       "</table>\n"
      ],
      "text/latex": [
       "A spec\\_tbl\\_df: 0 × 1\n",
       "\\begin{tabular}{l}\n",
       " HOUR\\\\\n",
       " <dbl>\\\\\n",
       "\\hline\n",
       "\\end{tabular}\n"
      ],
      "text/markdown": [
       "\n",
       "A spec_tbl_df: 0 × 1\n",
       "\n",
       "| HOUR &lt;dbl&gt; |\n",
       "|---|\n",
       "\n"
      ],
      "text/plain": [
       "     HOUR"
      ]
     },
     "metadata": {},
     "output_type": "display_data"
    }
   ],
   "source": [
    "# Check whether the COUNTRY column has any reference links\n",
    "sub_bike_sharing_df %>% \n",
    "    select(HOUR) %>% \n",
    "    filter(find_reference_pattern(HOUR)) %>%\n",
    "    slice(0:10)"
   ]
  },
  {
   "cell_type": "markdown",
   "metadata": {},
   "source": [
    "Ok, looks like the `COUNTRY` column is clean. Let's check the `CITY` column.\n"
   ]
  },
  {
   "cell_type": "code",
   "execution_count": 30,
   "metadata": {},
   "outputs": [
    {
     "data": {
      "text/html": [
       "<table>\n",
       "<caption>A spec_tbl_df: 0 × 1</caption>\n",
       "<thead>\n",
       "\t<tr><th scope=col>TEMPERATURE</th></tr>\n",
       "\t<tr><th scope=col>&lt;dbl&gt;</th></tr>\n",
       "</thead>\n",
       "<tbody>\n",
       "</tbody>\n",
       "</table>\n"
      ],
      "text/latex": [
       "A spec\\_tbl\\_df: 0 × 1\n",
       "\\begin{tabular}{l}\n",
       " TEMPERATURE\\\\\n",
       " <dbl>\\\\\n",
       "\\hline\n",
       "\\end{tabular}\n"
      ],
      "text/markdown": [
       "\n",
       "A spec_tbl_df: 0 × 1\n",
       "\n",
       "| TEMPERATURE &lt;dbl&gt; |\n",
       "|---|\n",
       "\n"
      ],
      "text/plain": [
       "     TEMPERATURE"
      ]
     },
     "metadata": {},
     "output_type": "display_data"
    }
   ],
   "source": [
    "# Check whether the CITY column has any reference links\n",
    "sub_bike_sharing_df %>% \n",
    "    select(TEMPERATURE) %>% \n",
    "    filter(find_reference_pattern(TEMPERATURE)) %>%\n",
    "    slice(0:10)"
   ]
  },
  {
   "cell_type": "markdown",
   "metadata": {},
   "source": [
    "Hmm, looks like the `CITY` column has some reference links to be removed. Next, let's check the `SYSTEM` column.\n"
   ]
  },
  {
   "cell_type": "code",
   "execution_count": 31,
   "metadata": {},
   "outputs": [
    {
     "data": {
      "text/html": [
       "<table>\n",
       "<caption>A spec_tbl_df: 0 × 1</caption>\n",
       "<thead>\n",
       "\t<tr><th scope=col>HUMIDITY</th></tr>\n",
       "\t<tr><th scope=col>&lt;dbl&gt;</th></tr>\n",
       "</thead>\n",
       "<tbody>\n",
       "</tbody>\n",
       "</table>\n"
      ],
      "text/latex": [
       "A spec\\_tbl\\_df: 0 × 1\n",
       "\\begin{tabular}{l}\n",
       " HUMIDITY\\\\\n",
       " <dbl>\\\\\n",
       "\\hline\n",
       "\\end{tabular}\n"
      ],
      "text/markdown": [
       "\n",
       "A spec_tbl_df: 0 × 1\n",
       "\n",
       "| HUMIDITY &lt;dbl&gt; |\n",
       "|---|\n",
       "\n"
      ],
      "text/plain": [
       "     HUMIDITY"
      ]
     },
     "metadata": {},
     "output_type": "display_data"
    }
   ],
   "source": [
    "# Check whether the System column has any reference links\n",
    "sub_bike_sharing_df %>% \n",
    "    select(HUMIDITY) %>% \n",
    "    filter(find_reference_pattern(HUMIDITY)) %>%\n",
    "    slice(0:10)"
   ]
  },
  {
   "cell_type": "markdown",
   "metadata": {},
   "source": [
    "So the `SYSTEM` column also has some reference links.\n"
   ]
  },
  {
   "cell_type": "markdown",
   "metadata": {},
   "source": [
    "After some preliminary investigations, we identified that the `CITY` and `SYSTEM` columns have some undesired reference links, and the `BICYCLES` column has both reference links and some \n",
    "textual annotations.\n",
    "\n",
    "Next, you need to use regular expressions to clean up the unexpected reference links and text annotations in numeric values.\n"
   ]
  },
  {
   "cell_type": "markdown",
   "metadata": {},
   "source": [
    "# TASK: Remove undesired reference links using regular expressions\n"
   ]
  },
  {
   "cell_type": "markdown",
   "metadata": {},
   "source": [
    "_TODO:_ Write a custom function using `stringr::str_replace_all` to replace all reference links with an empty character for columns `CITY` and `SYSTEM`\n"
   ]
  },
  {
   "cell_type": "code",
   "execution_count": null,
   "metadata": {},
   "outputs": [],
   "source": [
    "# remove reference link\n",
    "remove_ref <- function(strings) {\n",
    "    ref_pattern <- \"Define a pattern matching a reference link such as [1]\"\n",
    "    # Replace all matched substrings with a white space using str_replace_all()\n",
    "    # Trim the reslt if you want\n",
    "    # return(result)\n",
    "}"
   ]
  },
  {
   "cell_type": "markdown",
   "metadata": {},
   "source": [
    "_TODO:_ Use the `dplyr::mutate()` function to apply the `remove_ref` function to the `CITY` and `SYSTEM` columns\n"
   ]
  },
  {
   "cell_type": "code",
   "execution_count": null,
   "metadata": {},
   "outputs": [],
   "source": [
    "# sub_bike_sharing_df %>% mutate(column1=remove_ref(column1), ... )\n"
   ]
  },
  {
   "cell_type": "markdown",
   "metadata": {},
   "source": [
    "_TODO:_ Use the following code to check whether all reference links are removed:\n"
   ]
  },
  {
   "cell_type": "code",
   "execution_count": null,
   "metadata": {},
   "outputs": [],
   "source": [
    "result %>% \n",
    "    select(CITY, SYSTEM, BICYCLES) %>% \n",
    "    filter(find_reference_pattern(CITY) | find_reference_pattern(SYSTEM) | find_reference_pattern(BICYCLES))"
   ]
  },
  {
   "cell_type": "markdown",
   "metadata": {},
   "source": [
    "# TASK: Extract the numeric value using regular expressions\n"
   ]
  },
  {
   "cell_type": "markdown",
   "metadata": {},
   "source": [
    "_TODO:_ Write a custom function using `stringr::str_extract` to extract the first digital substring match and convert it into numeric type For example, extract the value '32' from `32 (including 6 rollers) [162]`.\n"
   ]
  },
  {
   "cell_type": "code",
   "execution_count": null,
   "metadata": {},
   "outputs": [],
   "source": [
    "# Extract the first number\n",
    "extract_num <- function(columns){\n",
    "    # Define a digital pattern\n",
    "    digitals_pattern <- \"Define a pattern matching a digital substring\"\n",
    "    # Find the first match using str_extract\n",
    "    # Convert the result to numeric using the as.numeric() function\n",
    "}"
   ]
  },
  {
   "cell_type": "markdown",
   "metadata": {},
   "source": [
    "_TODO:_ Use the `dplyr::mutate()` function to apply `extract_num` on the `BICYCLES` column\n"
   ]
  },
  {
   "cell_type": "code",
   "execution_count": null,
   "metadata": {},
   "outputs": [],
   "source": [
    "# Use the mutate() function on the BICYCLES column"
   ]
  },
  {
   "cell_type": "markdown",
   "metadata": {},
   "source": [
    "_TODO:_ Use the summary function to check the descriptive statistics of the numeric `BICYCLES` column\n"
   ]
  },
  {
   "cell_type": "code",
   "execution_count": null,
   "metadata": {},
   "outputs": [],
   "source": [
    "summary(result$BICYCLES)"
   ]
  },
  {
   "cell_type": "markdown",
   "metadata": {},
   "source": [
    "_TODO:_ Write the cleaned bike-sharing systems dataset into a csv file called `bike_sharing_systems.csv`\n"
   ]
  },
  {
   "cell_type": "code",
   "execution_count": null,
   "metadata": {},
   "outputs": [],
   "source": [
    "# Write dataset to `bike_sharing_systems.csv`\n"
   ]
  },
  {
   "cell_type": "markdown",
   "metadata": {},
   "source": [
    "# References:\n"
   ]
  },
  {
   "cell_type": "markdown",
   "metadata": {},
   "source": [
    "If you need to refresh your memory about regular expressions, please refer to this good Regular Expression cheat sheet:\n",
    "\n",
    "<a href=\"https://www.rstudio.com/wp-content/uploads/2016/09/RegExCheatsheet.pdf?utm_medium=Exinfluencer&utm_source=Exinfluencer&utm_content=000026UJ&utm_term=10006555&utm_id=NA-SkillsNetwork-Channel-SkillsNetworkCoursesIBMDeveloperSkillsNetworkRP0321ENSkillsNetwork878-2022-01-01\" target=\"_blank\">Basic Regular Expressions in R</a>\n"
   ]
  },
  {
   "cell_type": "markdown",
   "metadata": {},
   "source": [
    "# Next Steps\n"
   ]
  },
  {
   "cell_type": "markdown",
   "metadata": {},
   "source": [
    "Great! Now you have cleaned up the bike-sharing system dataset using regular expressions. Next, you will use other `tidyverse` functions to perform data wrangling on the bike-sharing demand dataset.\n"
   ]
  },
  {
   "cell_type": "markdown",
   "metadata": {},
   "source": [
    "## Authors\n",
    "\n",
    "<a href=\"https://www.linkedin.com/in/yan-luo-96288783/?utm_medium=Exinfluencer&utm_source=Exinfluencer&utm_content=000026UJ&utm_term=10006555&utm_id=NA-SkillsNetwork-Channel-SkillsNetworkCoursesIBMDeveloperSkillsNetworkRP0321ENSkillsNetwork878-2022-01-01\" target=\"_blank\">Yan Luo</a>\n"
   ]
  },
  {
   "cell_type": "markdown",
   "metadata": {},
   "source": [
    "### Other Contributors\n",
    "\n",
    "Jeff Grossman\n"
   ]
  },
  {
   "cell_type": "markdown",
   "metadata": {},
   "source": [
    "## Change Log\n",
    "\n",
    "| Date (YYYY-MM-DD) | Version | Changed By | Change Description           |\n",
    "| ----------------- | ------- | ---------- | ---------------------------- |\n",
    "| 2021-04-08        | 1.0     | Yan        | Initial version created      |\n",
    "|                   |         |            |                              |\n",
    "|                   |         |            |                              |\n",
    "\n",
    "## <h3 align=\"center\"> © IBM Corporation 2021. All rights reserved. <h3/>\n"
   ]
  }
 ],
 "metadata": {
  "kernelspec": {
   "display_name": "R",
   "language": "R",
   "name": "conda-env-r-r"
  },
  "language_info": {
   "codemirror_mode": "r",
   "file_extension": ".r",
   "mimetype": "text/x-r-source",
   "name": "R",
   "pygments_lexer": "r",
   "version": "3.5.1"
  }
 },
 "nbformat": 4,
 "nbformat_minor": 4
}
